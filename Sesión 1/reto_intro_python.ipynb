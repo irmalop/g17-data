{
  "cells": [
    {
      "cell_type": "markdown",
      "metadata": {
        "id": "ms9SLG9zRMi5"
      },
      "source": [
        "Crear las siguientes variables.\n",
        "\n",
        "* Una variable donde asignes el nombre de una película\n",
        "* Una variable que contenga los primeros 4 decimales de PI\n",
        "* Una variable que contenga la cantidad de mascotas que tienes"
      ]
    },
    {
      "cell_type": "code",
      "execution_count": 1,
      "metadata": {
        "id": "HXryfKdpRsvT"
      },
      "outputs": [],
      "source": [
        "pelicula = \"Dead drop diva\""
      ]
    },
    {
      "cell_type": "code",
      "execution_count": 2,
      "metadata": {},
      "outputs": [],
      "source": [
        "pi = 3.1416"
      ]
    },
    {
      "cell_type": "code",
      "execution_count": 3,
      "metadata": {
        "id": "Da31UjXVRtBB"
      },
      "outputs": [],
      "source": [
        "mascotas = 2"
      ]
    },
    {
      "cell_type": "markdown",
      "metadata": {
        "id": "tZBN5IO_SoFr"
      },
      "source": [
        "Imprime los siguientes mensajes utilizando format de tal manera que el resultado sea parecido a lo siguiente:\n",
        "\n",
        "```bash\n",
        "La película que elegi es Harry Potter\n",
        "````\n",
        "\n",
        "```bash\n",
        "El valor de pi es 3.1416\n",
        "````\n",
        "\n",
        "```bash\n",
        "La cantidad de mascotas que tengo son 2\n",
        "````"
      ]
    },
    {
      "cell_type": "code",
      "execution_count": 4,
      "metadata": {
        "id": "EJfQXm6mSpGQ"
      },
      "outputs": [
        {
          "name": "stdout",
          "output_type": "stream",
          "text": [
            "La película que elegí es Dead drop diva\n"
          ]
        }
      ],
      "source": [
        "print(f\"La película que elegí es {pelicula}\")"
      ]
    },
    {
      "cell_type": "code",
      "execution_count": 5,
      "metadata": {
        "id": "VVVGZruXSpSg"
      },
      "outputs": [
        {
          "name": "stdout",
          "output_type": "stream",
          "text": [
            "El valor de pi es 3.1416\n"
          ]
        }
      ],
      "source": [
        "print(f\"El valor de pi es {pi}\")"
      ]
    },
    {
      "cell_type": "code",
      "execution_count": 6,
      "metadata": {
        "id": "ZvJiioi3SpjL"
      },
      "outputs": [
        {
          "name": "stdout",
          "output_type": "stream",
          "text": [
            "La cantidad de mascotas que tengo son 2\n"
          ]
        }
      ],
      "source": [
        "print(f\"La cantidad de mascotas que tengo son {mascotas}\")"
      ]
    },
    {
      "cell_type": "markdown",
      "metadata": {
        "id": "qff5RNf_Sxvy"
      },
      "source": [
        "Crea una tabla utilizando f strings donde salgan 3 empleos aleatorios, sus respectivos sueldos y el país donde radican."
      ]
    },
    {
      "cell_type": "code",
      "execution_count": 11,
      "metadata": {},
      "outputs": [
        {
          "name": "stdout",
          "output_type": "stream",
          "text": [
            "abogado   | 25000|México      \n",
            "bombero   | 30000|Argentina   \n",
            "médico    | 40000|Perú        \n"
          ]
        }
      ],
      "source": [
        "empleo = ['abogado', 'bombero', 'médico']\n",
        "sueldo = [25000, 30000, 40000]\n",
        "pais = [\"México\", \"Argentina\", \"Perú\"]\n",
        "print(f\"{empleo[0]:10}|{sueldo[0]:6}|{pais[0]:12}\")\n",
        "print(f\"{empleo[1]:10}|{sueldo[1]:6}|{pais[1]:12}\")\n",
        "print(f\"{empleo[2]:10}|{sueldo[2]:6}|{pais[2]:12}\")\n"
      ]
    },
    {
      "cell_type": "code",
      "execution_count": 2,
      "metadata": {},
      "outputs": [
        {
          "name": "stdout",
          "output_type": "stream",
          "text": [
            "abogado   | 25000|México      \n",
            "bombero   | 30000|Argentina   \n",
            "médico    | 40000|Perú        \n"
          ]
        }
      ],
      "source": [
        "empleo = ['abogado', 'bombero', 'médico']\n",
        "sueldo = [25000, 30000, 40000]\n",
        "pais = [\"México\", \"Argentina\", \"Perú\"]\n",
        "for i in range(len(empleo)):\n",
        "    print(f\"{empleo[i]:10}|{sueldo[i]:6}|{pais[i]:12}\")\n"
      ]
    },
    {
      "cell_type": "code",
      "execution_count": 12,
      "metadata": {
        "id": "uX7iBO31Td2G"
      },
      "outputs": [
        {
          "name": "stdout",
          "output_type": "stream",
          "text": [
            "\n",
            "|   Empleo  |   Sueldo  |   País    |\n",
            "| abogado | 15000 | Colombia |\n",
            "| médico | 15000 | México |\n",
            "| bombero | 15000 | México |\n",
            "\n"
          ]
        }
      ],
      "source": [
        "import random\n",
        "empleo = {\"Título\": [\"médico\", \"bombero\", \"abogado\"], \"Sueldo\": [15000, 20000, 25000], \"País\": [\"EUA\", \"México\", \"Colombia\"]}\n",
        "print(f\"\"\"\n",
        "|   Empleo  |   Sueldo  |   País    |\n",
        "| {random.choice(empleo[\"Título\"])} | {random.choice(empleo[\"Sueldo\"])} | {random.choice(empleo[\"País\"])} |\n",
        "| {random.choice(empleo[\"Título\"])} | {random.choice(empleo[\"Sueldo\"])} | {random.choice(empleo[\"País\"])} |\n",
        "| {random.choice(empleo[\"Título\"])} | {random.choice(empleo[\"Sueldo\"])} | {random.choice(empleo[\"País\"])} |\n",
        "\"\"\")"
      ]
    },
    {
      "cell_type": "markdown",
      "metadata": {
        "id": "yWqnOS4OQxQH"
      },
      "source": [
        "Desarrolla un programa donde pida 2 números y devuelva la suma, resta, multiplicación y división de los mismos."
      ]
    },
    {
      "cell_type": "code",
      "execution_count": 13,
      "metadata": {
        "id": "VcfmeoFZQqZz"
      },
      "outputs": [
        {
          "name": "stdout",
          "output_type": "stream",
          "text": [
            "Suma: 2 + 3 es 5\n",
            "Multiplicación: 2 x 3 es 6\n",
            "División: 2 entre 3 es 0.6666666666666666\n"
          ]
        }
      ],
      "source": [
        "num1, num2 = int(input('Ingresa el primer número: ')), int(input('Ingresa el segundo número: '))\n",
        "print(f'Suma: {num1} + {num2} es {num1 + num2}')\n",
        "print(f'Multiplicación: {num1} x {num2} es {num1 * num2}')\n",
        "print(f'División: {num1} entre {num2} es {num1 / num2}')"
      ]
    },
    {
      "cell_type": "markdown",
      "metadata": {
        "id": "n6_bQXdhT4l-"
      },
      "source": [
        "Crea una lista con 4 colores y despues ejecuta las siguientes lineas de código:"
      ]
    },
    {
      "cell_type": "code",
      "execution_count": 3,
      "metadata": {
        "id": "Zh8H7yfbT9iI"
      },
      "outputs": [],
      "source": [
        "colores = ['rojo', 'verde', 'morado', 'rosa']"
      ]
    },
    {
      "cell_type": "code",
      "execution_count": 7,
      "metadata": {},
      "outputs": [
        {
          "data": {
            "text/plain": [
              "[(0, 'rojo'), (1, 'verde'), (2, 'morado'), (3, 'rosa')]"
            ]
          },
          "execution_count": 7,
          "metadata": {},
          "output_type": "execute_result"
        }
      ],
      "source": [
        "list(enumerate(colores))"
      ]
    },
    {
      "cell_type": "code",
      "execution_count": 8,
      "metadata": {},
      "outputs": [
        {
          "name": "stdout",
          "output_type": "stream",
          "text": [
            "El color 0 es rojo\n",
            "El color 1 es verde\n",
            "El color 2 es morado\n",
            "El color 3 es rosa\n"
          ]
        }
      ],
      "source": [
        "for indice, elemento in enumerate(colores):\n",
        "    print(f\"El color {indice} es {elemento}\")\n"
      ]
    },
    {
      "cell_type": "code",
      "execution_count": 15,
      "metadata": {
        "id": "ook1SGxxT-1j"
      },
      "outputs": [
        {
          "name": "stdout",
          "output_type": "stream",
          "text": [
            "El color 0 es rojo\n",
            "El color 1 es verde\n",
            "El color 2 es morado\n",
            "El color 3 es rosa\n"
          ]
        }
      ],
      "source": [
        "print(f\"El color 0 es {colores[0]}\")\n",
        "print(f\"El color 1 es {colores[1]}\")\n",
        "print(f\"El color 2 es {colores[2]}\")\n",
        "print(f\"El color 3 es {colores[3]}\")"
      ]
    },
    {
      "cell_type": "markdown",
      "metadata": {
        "id": "Nes2H1VBUOb-"
      },
      "source": [
        "Crea una lista con 4 ciudades y utilizando Slice, que aparezcan las 2 de enmedio"
      ]
    },
    {
      "cell_type": "code",
      "execution_count": 16,
      "metadata": {
        "id": "h9Lpky2pUVbu"
      },
      "outputs": [
        {
          "name": "stdout",
          "output_type": "stream",
          "text": [
            "['Guadalajara', 'Acapulco']\n"
          ]
        }
      ],
      "source": [
        "ciudades = ['CDMX', 'Guadalajara', 'Acapulco', 'Cancún']\n",
        "print(ciudades[1:3])"
      ]
    },
    {
      "cell_type": "markdown",
      "metadata": {
        "id": "KZRc8KrtUIXs"
      },
      "source": [
        "De nuestra lista de ciudades, imprime la ultima ciudad"
      ]
    },
    {
      "cell_type": "code",
      "execution_count": 17,
      "metadata": {
        "id": "w4Iu12l6UZc0"
      },
      "outputs": [
        {
          "name": "stdout",
          "output_type": "stream",
          "text": [
            "Cancún\n"
          ]
        }
      ],
      "source": [
        "print(ciudades[-1])"
      ]
    },
    {
      "cell_type": "markdown",
      "metadata": {
        "id": "tm1WmrjoWX9g"
      },
      "source": [
        "Agrega los siguientes datos a tu lista de colores: \"Morado\", \"Rosa\""
      ]
    },
    {
      "cell_type": "code",
      "execution_count": 18,
      "metadata": {
        "id": "59n7yhbRWgda"
      },
      "outputs": [
        {
          "name": "stdout",
          "output_type": "stream",
          "text": [
            "['rojo', 'verde', 'morado', 'rosa', 'Morado', 'Rosa']\n"
          ]
        }
      ],
      "source": [
        "colores.append('Morado')\n",
        "colores.append('Rosa')\n",
        "print(colores)"
      ]
    },
    {
      "cell_type": "markdown",
      "metadata": {
        "id": "raJtwSsMXObz"
      },
      "source": [
        "La siguiente lista contiene las alturas de 15 niños de cuarto grado, sacr el promedio de alturas."
      ]
    },
    {
      "cell_type": "code",
      "execution_count": 19,
      "metadata": {
        "id": "RBHJnt7RXVfn"
      },
      "outputs": [],
      "source": [
        "alturas = [1.35, 1.56, 1.42, 1.22, 1.37, 1.23, 1.40, 1.25, 1.22, 1.37, 1.30, 1.15, 1.24, 1.31, 1.17]"
      ]
    },
    {
      "cell_type": "code",
      "execution_count": 20,
      "metadata": {
        "id": "OMwiQWdPXs0D"
      },
      "outputs": [
        {
          "name": "stdout",
          "output_type": "stream",
          "text": [
            "1.304\n"
          ]
        }
      ],
      "source": [
        "suma = sum(alturas)\n",
        "cantidad = len(alturas)\n",
        "promedio = suma/cantidad\n",
        "print(promedio)"
      ]
    },
    {
      "cell_type": "markdown",
      "metadata": {
        "id": "gnmvV-6CXtFf"
      },
      "source": [
        "Obten la altura mas chica del grupo"
      ]
    },
    {
      "cell_type": "code",
      "execution_count": 21,
      "metadata": {
        "id": "6_vnauWrXxxw"
      },
      "outputs": [
        {
          "name": "stdout",
          "output_type": "stream",
          "text": [
            "1.15\n"
          ]
        }
      ],
      "source": [
        "print(min(alturas))"
      ]
    },
    {
      "cell_type": "markdown",
      "metadata": {
        "id": "QA4QhB1RXyIP"
      },
      "source": [
        "Obten la altura más alta del grupo"
      ]
    },
    {
      "cell_type": "code",
      "execution_count": 22,
      "metadata": {
        "id": "zaEh5073X0Ef"
      },
      "outputs": [
        {
          "name": "stdout",
          "output_type": "stream",
          "text": [
            "1.56\n"
          ]
        }
      ],
      "source": [
        "print(max(alturas))"
      ]
    },
    {
      "cell_type": "markdown",
      "metadata": {
        "id": "PEOwRkHPZP-h"
      },
      "source": [
        "Crea un diccionario de perros, donde lleva 2 claves: Nombre y Raza"
      ]
    },
    {
      "cell_type": "code",
      "execution_count": 23,
      "metadata": {
        "id": "NbaNatoIa3M8"
      },
      "outputs": [],
      "source": [
        "perros={'Nombre':'Chucho', 'Raza': 'Pitbull'}"
      ]
    },
    {
      "cell_type": "code",
      "execution_count": 24,
      "metadata": {
        "id": "x5K1wxDha3mu"
      },
      "outputs": [
        {
          "name": "stdout",
          "output_type": "stream",
          "text": [
            "{'Nombre': 'Chucho', 'Raza': 'Pitbull'}\n"
          ]
        }
      ],
      "source": [
        "print(perros)"
      ]
    },
    {
      "cell_type": "markdown",
      "metadata": {
        "id": "8uUUKwjxbBs9"
      },
      "source": [
        "Agrega una clave llamada Edad a nuestro diccionario y asignale un valor"
      ]
    },
    {
      "cell_type": "code",
      "execution_count": 26,
      "metadata": {
        "id": "fCCGf6WUbAWb"
      },
      "outputs": [
        {
          "name": "stdout",
          "output_type": "stream",
          "text": [
            "{'Nombre': 'Chucho', 'Raza': 'Pitbull', 'Edad': 2}\n"
          ]
        }
      ],
      "source": [
        "perros['Edad']= 2\n",
        "print(perros)"
      ]
    },
    {
      "cell_type": "markdown",
      "metadata": {
        "id": "dlUIMAntbIer"
      },
      "source": [
        "Crea 2 diccionarios de perro más incluyendo el valor edad."
      ]
    },
    {
      "cell_type": "code",
      "execution_count": 27,
      "metadata": {
        "id": "1TgwcD9tbHDx"
      },
      "outputs": [],
      "source": [
        "perro1={'Nombre':'Manchas', 'Raza': 'Pitbull1', 'Edad': 2}\n",
        "perro2={'Nombre':'Pelucho', 'Raza': 'Pitbull2', 'Edad': 3}"
      ]
    },
    {
      "cell_type": "markdown",
      "metadata": {
        "id": "htGYP7tdbUQh"
      },
      "source": [
        "Crea una lista llamada mascotas y dentro de los corchetes, agrega los 3 diccionarios"
      ]
    },
    {
      "cell_type": "code",
      "execution_count": 28,
      "metadata": {
        "id": "nc2LaxGYbPDG"
      },
      "outputs": [
        {
          "name": "stdout",
          "output_type": "stream",
          "text": [
            "[{'Nombre': 'Chucho', 'Raza': 'Pitbull', 'Edad': 2}, {'Nombre': 'Manchas', 'Raza': 'Pitbull1', 'Edad': 2}, {'Nombre': 'Pelucho', 'Raza': 'Pitbull2', 'Edad': 3}]\n"
          ]
        }
      ],
      "source": [
        "mascotas = [perros, perro1, perro2]\n",
        "print(mascotas)"
      ]
    }
  ],
  "metadata": {
    "colab": {
      "name": "reto-intro-python.ipynb",
      "provenance": []
    },
    "kernelspec": {
      "display_name": "Python 3",
      "name": "python3"
    },
    "language_info": {
      "codemirror_mode": {
        "name": "ipython",
        "version": 3
      },
      "file_extension": ".py",
      "mimetype": "text/x-python",
      "name": "python",
      "nbconvert_exporter": "python",
      "pygments_lexer": "ipython3",
      "version": "3.9.7"
    }
  },
  "nbformat": 4,
  "nbformat_minor": 0
}
