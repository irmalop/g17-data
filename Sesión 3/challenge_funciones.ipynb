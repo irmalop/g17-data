{
 "cells": [
  {
   "cell_type": "markdown",
   "metadata": {},
   "source": [
    "# Challenge Funciones\n",
    "Este challenge consiste en escribir las funciones propuestas en el siguiente link: https://www.w3resource.com/python-exercises/python-functions-exercises.php"
   ]
  },
  {
   "cell_type": "markdown",
   "metadata": {},
   "source": [
    "### 1. Write a function to find the max of three numbers"
   ]
  },
  {
   "cell_type": "code",
   "execution_count": 1,
   "metadata": {},
   "outputs": [
    {
     "data": {
      "text/plain": [
       "3"
      ]
     },
     "execution_count": 1,
     "metadata": {},
     "output_type": "execute_result"
    }
   ],
   "source": [
    "# Write a function to find the max of three numbers\n",
    "def max_number(num1, num2, num3):\n",
    "    return max(num1, max(num2, num3))\n",
    "\n",
    "max_number(1, 2, 3)"
   ]
  },
  {
   "cell_type": "markdown",
   "metadata": {},
   "source": [
    "### 2. Write a Python function to sum all the numbers in a list."
   ]
  },
  {
   "cell_type": "code",
   "execution_count": 22,
   "metadata": {},
   "outputs": [
    {
     "data": {
      "text/plain": [
       "20"
      ]
     },
     "execution_count": 22,
     "metadata": {},
     "output_type": "execute_result"
    }
   ],
   "source": [
    "# Write a Python function to sum all the numbers in a list.\n",
    "\n",
    "def sum_list(args):\n",
    "    return sum(args)\n",
    "\n",
    "lista = [8, 2, 3, 0, 7]\n",
    "sum_list(lista)"
   ]
  },
  {
   "cell_type": "markdown",
   "metadata": {},
   "source": [
    "### 3. Write a Python function to multiply all the numbers in a list."
   ]
  },
  {
   "cell_type": "code",
   "execution_count": 23,
   "metadata": {},
   "outputs": [
    {
     "data": {
      "text/plain": [
       "-336"
      ]
     },
     "execution_count": 23,
     "metadata": {},
     "output_type": "execute_result"
    }
   ],
   "source": [
    "# Write a Python function to multiply all the numbers in a list.\n",
    "def sum_list(args):\n",
    "    total = 1\n",
    "    for arg in args:\n",
    "        total = arg*total\n",
    "    return total\n",
    "\n",
    "sum_list([8, 2, 3, -1, 7])"
   ]
  },
  {
   "cell_type": "markdown",
   "metadata": {},
   "source": [
    "### 4. Write a Python program to reverse a string."
   ]
  },
  {
   "cell_type": "code",
   "execution_count": 4,
   "metadata": {},
   "outputs": [
    {
     "data": {
      "text/plain": [
       "'dcba4321'"
      ]
     },
     "execution_count": 4,
     "metadata": {},
     "output_type": "execute_result"
    }
   ],
   "source": [
    "# Write a Python program to reverse a string.\n",
    "def reverse_string(string):\n",
    "    return string[::-1]\n",
    "\n",
    "reverse_string(\"1234abcd\")"
   ]
  },
  {
   "cell_type": "markdown",
   "metadata": {},
   "source": [
    "### 5. Write a Python function to calculate the factorial of a number (a non-negative integer). "
   ]
  },
  {
   "cell_type": "code",
   "execution_count": 24,
   "metadata": {},
   "outputs": [
    {
     "data": {
      "text/plain": [
       "3628800"
      ]
     },
     "execution_count": 24,
     "metadata": {},
     "output_type": "execute_result"
    }
   ],
   "source": [
    "# Write a Python function to calculate the factorial of a number (a non-negative integer). \n",
    "# The function accepts the number as an argument.\n",
    "\n",
    "def factorial(num):\n",
    "    if num == 0 or num == 1:\n",
    "        return 1\n",
    "    else:\n",
    "        return num*factorial(num-1)\n",
    "\n",
    "factorial(10)"
   ]
  },
  {
   "cell_type": "markdown",
   "metadata": {},
   "source": [
    "### 6. Write a Python function to check whether a number falls in a given range."
   ]
  },
  {
   "cell_type": "code",
   "execution_count": 6,
   "metadata": {},
   "outputs": [
    {
     "data": {
      "text/plain": [
       "False"
      ]
     },
     "execution_count": 6,
     "metadata": {},
     "output_type": "execute_result"
    }
   ],
   "source": [
    "# Write a Python function to check whether a number falls in a given range.\n",
    "def check_in_range(num, lim_inferior, lim_superior):\n",
    "    return lim_inferior <= num <= lim_superior\n",
    "\n",
    "check_in_range(5, 4, 10)\n",
    "check_in_range(11, 4, 10)"
   ]
  },
  {
   "cell_type": "markdown",
   "metadata": {},
   "source": [
    "### 7. Write a Python function that accepts a string and calculate the number of upper case letters and lower case letters."
   ]
  },
  {
   "cell_type": "code",
   "execution_count": 7,
   "metadata": {},
   "outputs": [
    {
     "name": "stdout",
     "output_type": "stream",
     "text": [
      "No. of Upper case characters : 3 \n",
      "No. of Lower case Characters : 12\n"
     ]
    }
   ],
   "source": [
    "# Write a Python function that accepts a string and calculate the number of upper case letters and lower case letters.\n",
    "def count_letters(string):\n",
    "    upper_count = 0\n",
    "    lower_count = 0\n",
    "    for char in string:\n",
    "        if ord('A') <= ord(char) <= ord('Z'):\n",
    "            upper_count += 1\n",
    "        elif ord('a') <= ord(char) <= ord('z'):\n",
    "            lower_count += 1\n",
    "    return upper_count, lower_count\n",
    "\n",
    "counts = count_letters('The quick Brow Fox')\n",
    "print(f'No. of Upper case characters : {counts[0]} \\nNo. of Lower case Characters : {counts[1]}')"
   ]
  },
  {
   "cell_type": "markdown",
   "metadata": {},
   "source": [
    "### 8. Write a Python function that takes a list and returns a new list with unique elements of the first list."
   ]
  },
  {
   "cell_type": "code",
   "execution_count": 8,
   "metadata": {},
   "outputs": [
    {
     "name": "stdout",
     "output_type": "stream",
     "text": [
      "[1, 2, 3, 4, 5]\n"
     ]
    }
   ],
   "source": [
    "# Write a Python function that takes a list and returns a new list with unique elements of the first list.\n",
    "def unique_elems(list_numbers):\n",
    "    return list(set(list_numbers))\n",
    "\n",
    "print(unique_elems([1,2,3,3,3,3,4,5]))"
   ]
  },
  {
   "cell_type": "markdown",
   "metadata": {},
   "source": [
    "### 9. Write a Python function that takes a number as a parameter and check the number is prime or not."
   ]
  },
  {
   "cell_type": "code",
   "execution_count": 9,
   "metadata": {},
   "outputs": [
    {
     "data": {
      "text/plain": [
       "False"
      ]
     },
     "execution_count": 9,
     "metadata": {},
     "output_type": "execute_result"
    }
   ],
   "source": [
    "# Write a Python function that takes a number as a parameter and check the number is prime or not.\n",
    "def is_prime(num):\n",
    "    for i in range(2, num):\n",
    "        if num%i == 0:\n",
    "            return False\n",
    "\n",
    "    return True\n",
    "\n",
    "is_prime(21)"
   ]
  },
  {
   "cell_type": "markdown",
   "metadata": {},
   "source": [
    "### 10. Write a Python program to print the even numbers from a given list."
   ]
  },
  {
   "cell_type": "code",
   "execution_count": 10,
   "metadata": {},
   "outputs": [
    {
     "data": {
      "text/plain": [
       "[2, 4, 6, 8]"
      ]
     },
     "execution_count": 10,
     "metadata": {},
     "output_type": "execute_result"
    }
   ],
   "source": [
    "# Write a Python program to print the even numbers from a given list.\n",
    "def even_numbers(list_numbers):\n",
    "    even_list = []\n",
    "    for elem in list_numbers:\n",
    "        if elem % 2 == 0:\n",
    "            even_list.append(elem)\n",
    "    return even_list\n",
    "\n",
    "even_numbers([1, 2, 3, 4, 5, 6, 7, 8, 9])"
   ]
  },
  {
   "cell_type": "markdown",
   "metadata": {},
   "source": [
    "### 11. Write a Python function to check whether a number is perfect or not. "
   ]
  },
  {
   "cell_type": "code",
   "execution_count": 11,
   "metadata": {},
   "outputs": [
    {
     "name": "stdout",
     "output_type": "stream",
     "text": [
      "False\n",
      "False\n",
      "False\n",
      "False\n",
      "False\n",
      "False\n",
      "True\n",
      "False\n",
      "False\n",
      "False\n"
     ]
    }
   ],
   "source": [
    "# Write a Python function to check whether a number is perfect or not. \n",
    "def perfect_number(num):\n",
    "    divisors_list = []\n",
    "\n",
    "    if num == 0:\n",
    "        return False\n",
    "\n",
    "    for i in range(1, num):\n",
    "        if num%i == 0:\n",
    "            divisors_list.append(i)\n",
    "\n",
    "    return sum(divisors_list) == num and (sum(divisors_list)+num)/2 == num\n",
    "\n",
    "for i in range(0, 10):\n",
    "    print(perfect_number(i))"
   ]
  },
  {
   "cell_type": "markdown",
   "metadata": {},
   "source": [
    "### 12. Write a Python function that checks whether a passed string is palindrome or not."
   ]
  },
  {
   "cell_type": "code",
   "execution_count": 12,
   "metadata": {},
   "outputs": [
    {
     "data": {
      "text/plain": [
       "False"
      ]
     },
     "execution_count": 12,
     "metadata": {},
     "output_type": "execute_result"
    }
   ],
   "source": [
    "#  Write a Python function that checks whether a passed string is palindrome or not.\n",
    "def is_palindrome(string):\n",
    "    string = string.replace(\" \", \"\")\n",
    "    return string == string[::-1]\n",
    "\n",
    "is_palindrome(\" run\")"
   ]
  },
  {
   "cell_type": "markdown",
   "metadata": {},
   "source": [
    "### 13. Write a Python function that prints out the first n rows of Pascal's triangle."
   ]
  },
  {
   "cell_type": "code",
   "execution_count": 13,
   "metadata": {},
   "outputs": [
    {
     "name": "stdout",
     "output_type": "stream",
     "text": [
      "     1 \n",
      "    1  1 \n",
      "   1  2  1 \n",
      "  1  3  3  1 \n",
      " 1  4  6  4  1 \n"
     ]
    }
   ],
   "source": [
    "# Write a Python function that prints out the first n rows of Pascal's triangle.\n",
    "def pascal_triangle(rows):\n",
    "    previous = []\n",
    "    count = 1\n",
    "    for i in range(0,rows):\n",
    "        aux = []\n",
    "        print(' '*(5-count), end='')\n",
    "        for j in range(0,count):\n",
    "            if j == 0 or j == count-1:\n",
    "                aux.append(1)\n",
    "                print(' 1 ', end='')\n",
    "            else:\n",
    "                cell_value = previous[j-1] + previous[j]\n",
    "                aux.append(cell_value)\n",
    "                print(' ' + str(cell_value) + ' ', end='')\n",
    "        print('')\n",
    "        previous = aux\n",
    "        count += 1\n",
    "    \n",
    "pascal_triangle(5)"
   ]
  },
  {
   "cell_type": "markdown",
   "metadata": {},
   "source": [
    "### 14. Write a Python function to check whether a string is a pangram or not."
   ]
  },
  {
   "cell_type": "code",
   "execution_count": 14,
   "metadata": {},
   "outputs": [
    {
     "data": {
      "text/plain": [
       "True"
      ]
     },
     "execution_count": 14,
     "metadata": {},
     "output_type": "execute_result"
    }
   ],
   "source": [
    "# Write a Python function to check whether a string is a pangram or not.\n",
    "def is_pangram(string):\n",
    "    string = string.lower()\n",
    "    alphabet = set()\n",
    "\n",
    "    for char in string:\n",
    "        if ord('a') <= ord(char) <= ord('z'):\n",
    "            alphabet.add(char)\n",
    "\n",
    "    return len(alphabet) == 26\n",
    "\n",
    "is_pangram(\"The quick brown fox jumps over the lazy dog\")"
   ]
  },
  {
   "cell_type": "markdown",
   "metadata": {},
   "source": [
    "### 15. Write a Python program that accepts a hyphen-separated sequence of words as input and prints the words in a hyphen-separated sequence after sorting them alphabetically"
   ]
  },
  {
   "cell_type": "code",
   "execution_count": 15,
   "metadata": {},
   "outputs": [
    {
     "data": {
      "text/plain": [
       "'black-green-red-white-yellow'"
      ]
     },
     "execution_count": 15,
     "metadata": {},
     "output_type": "execute_result"
    }
   ],
   "source": [
    "# Write a Python program that accepts a hyphen-separated sequence of words as input and prints the words in a \n",
    "# hyphen-separated sequence after sorting them alphabetically\n",
    "def alphabetically_order(string):\n",
    "    # Separamos\n",
    "    words_list = string.split('-')\n",
    "    # Ordenamos\n",
    "    words_list.sort()\n",
    "    # Juntamos de nuevo\n",
    "    ordered_string = '-'.join(words_list)\n",
    "\n",
    "    return ordered_string\n",
    "\n",
    "alphabetically_order('green-red-yellow-black-white')"
   ]
  },
  {
   "cell_type": "markdown",
   "metadata": {},
   "source": [
    "### 16. Write a Python function to create and print a list where the values are square of numbers between 1 and 30 (both included)."
   ]
  },
  {
   "cell_type": "code",
   "execution_count": 16,
   "metadata": {},
   "outputs": [
    {
     "data": {
      "text/plain": [
       "[1,\n",
       " 4,\n",
       " 9,\n",
       " 16,\n",
       " 25,\n",
       " 36,\n",
       " 49,\n",
       " 64,\n",
       " 81,\n",
       " 100,\n",
       " 121,\n",
       " 144,\n",
       " 169,\n",
       " 196,\n",
       " 225,\n",
       " 256,\n",
       " 289,\n",
       " 324,\n",
       " 361,\n",
       " 400,\n",
       " 441,\n",
       " 484,\n",
       " 529,\n",
       " 576,\n",
       " 625,\n",
       " 676,\n",
       " 729,\n",
       " 784,\n",
       " 841,\n",
       " 900]"
      ]
     },
     "execution_count": 16,
     "metadata": {},
     "output_type": "execute_result"
    }
   ],
   "source": [
    "# Write a Python function to create and print a list where the values are square of numbers between 1 and 30 (both included).\n",
    "# 1, 4, 9, 25...\n",
    "def squares():\n",
    "    squares_list = []\n",
    "    for i in range(1,31):\n",
    "        squares_list.append(i**2)\n",
    "    return squares_list\n",
    "\n",
    "squares()"
   ]
  },
  {
   "cell_type": "markdown",
   "metadata": {},
   "source": [
    "### 17. Write a Python program to make a chain of function"
   ]
  },
  {
   "cell_type": "code",
   "execution_count": 17,
   "metadata": {},
   "outputs": [
    {
     "name": "stdout",
     "output_type": "stream",
     "text": [
      "\u001b[4m\u001b[1mHello World\n"
     ]
    }
   ],
   "source": [
    "def add_style(text, *args):\n",
    "    styled_text = ''\n",
    "    styles = {'underline': '\\033[4m', 'bold': '\\033[1m'}\n",
    "    for elem in args:\n",
    "        if styles.get(elem, None):\n",
    "            styled_text += styles.get(elem)\n",
    "\n",
    "    return styled_text + text\n",
    "\n",
    "print(add_style('Hello World', 'underline', 'bold'))"
   ]
  },
  {
   "cell_type": "markdown",
   "metadata": {},
   "source": [
    "### 18. Write a Python function to execute a string containing Python code."
   ]
  },
  {
   "cell_type": "code",
   "execution_count": 18,
   "metadata": {},
   "outputs": [
    {
     "name": "stdout",
     "output_type": "stream",
     "text": [
      "Hola Mundo\n"
     ]
    }
   ],
   "source": [
    "def execute_line(string):\n",
    "    exec(string)\n",
    "\n",
    "execute_line(\"print(f'Hola Mundo')\")"
   ]
  },
  {
   "cell_type": "markdown",
   "metadata": {},
   "source": [
    "### 19. Write a Python function to access a function inside a function"
   ]
  },
  {
   "cell_type": "code",
   "execution_count": 25,
   "metadata": {},
   "outputs": [
    {
     "data": {
      "text/plain": [
       "'Hola Mundo, Irma'"
      ]
     },
     "execution_count": 25,
     "metadata": {},
     "output_type": "execute_result"
    }
   ],
   "source": [
    "def llamar_saludar():\n",
    "    def saludar(nombre):\n",
    "        return f\"Hola Mundo, {nombre}\"\n",
    "    return saludar\n",
    "\n",
    "\n",
    "func = llamar_saludar()\n",
    "func(\"Irma\")"
   ]
  },
  {
   "cell_type": "markdown",
   "metadata": {},
   "source": [
    "### 20. Write a Python function to detect the number of local variables declared in a function"
   ]
  },
  {
   "cell_type": "code",
   "execution_count": 20,
   "metadata": {},
   "outputs": [
    {
     "name": "stdout",
     "output_type": "stream",
     "text": [
      "3\n"
     ]
    }
   ],
   "source": [
    "def variables():\n",
    "    a = 1\n",
    "    b = 2\n",
    "    c = 3\n",
    "\n",
    "def contar_variables(funcion):\n",
    "    return funcion.__code__.co_nlocals\n",
    "\n",
    "print(contar_variables(variables))"
   ]
  },
  {
   "cell_type": "markdown",
   "metadata": {},
   "source": [
    "### 21. Write a python function to execute a function after specific miliseconds"
   ]
  },
  {
   "cell_type": "code",
   "execution_count": 21,
   "metadata": {},
   "outputs": [
    {
     "name": "stdout",
     "output_type": "stream",
     "text": [
      "11\n"
     ]
    }
   ],
   "source": [
    "import time\n",
    "\n",
    "def suma(a, b):\n",
    "    return a + b\n",
    "\n",
    "def delay_function(funcion, ms):\n",
    "    time.sleep(ms/1000)\n",
    "    return funcion\n",
    "\n",
    "print(delay_function(suma(5, 6), 1000))"
   ]
  }
 ],
 "metadata": {
  "interpreter": {
   "hash": "d05a1375dcd0a662730dceed41f8551fa3996a68917605d6300e9102212e45a8"
  },
  "kernelspec": {
   "display_name": "Python 3.9.7 ('base')",
   "language": "python",
   "name": "python3"
  },
  "language_info": {
   "codemirror_mode": {
    "name": "ipython",
    "version": 3
   },
   "file_extension": ".py",
   "mimetype": "text/x-python",
   "name": "python",
   "nbconvert_exporter": "python",
   "pygments_lexer": "ipython3",
   "version": "3.9.7"
  },
  "orig_nbformat": 4
 },
 "nbformat": 4,
 "nbformat_minor": 2
}
