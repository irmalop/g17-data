{
  "cells": [
    {
      "cell_type": "markdown",
      "metadata": {
        "id": "4EFGoEpOl5J9"
      },
      "source": [
        "##Ejercicio 1\n",
        "Realizar un programa que conste de una clase llamada Alumno que tenga como atributos el nombre y la nota del alumno. Definir los métodos para inicializar sus atributos, imprimirlos y mostrar un mensaje con el resultado de la nota y si ha aprobado o no.\n"
      ]
    },
    {
      "cell_type": "code",
      "execution_count": 1,
      "metadata": {
        "id": "P9ullKnYnFfF"
      },
      "outputs": [],
      "source": [
        "class  Alumnos:\n",
        "    def __init__(self, nombre, nota):\n",
        "        self.nombre = nombre\n",
        "        self.nota = nota\n",
        "    def mensaje(self):\n",
        "        if self.nota <=5:\n",
        "            return f\"Nombre de alumno: {self.nombre} -Calificación: {self.nota} NO aprobado\"\n",
        "        else: \n",
        "            return f\"Nombre de alumno: {self.nombre} -Calificación: {self.nota} Aprobado\""
      ]
    },
    {
      "cell_type": "code",
      "execution_count": 2,
      "metadata": {},
      "outputs": [],
      "source": [
        "alumno1 = Alumnos('Angel', 9)"
      ]
    },
    {
      "cell_type": "code",
      "execution_count": 3,
      "metadata": {},
      "outputs": [
        {
          "data": {
            "text/plain": [
              "'Angel'"
            ]
          },
          "execution_count": 3,
          "metadata": {},
          "output_type": "execute_result"
        }
      ],
      "source": [
        "alumno1.nombre"
      ]
    },
    {
      "cell_type": "code",
      "execution_count": 4,
      "metadata": {},
      "outputs": [
        {
          "data": {
            "text/plain": [
              "9"
            ]
          },
          "execution_count": 4,
          "metadata": {},
          "output_type": "execute_result"
        }
      ],
      "source": [
        "alumno1.nota"
      ]
    },
    {
      "cell_type": "code",
      "execution_count": 5,
      "metadata": {},
      "outputs": [
        {
          "data": {
            "text/plain": [
              "'Nombre de alumno: Angel -Calificación: 9 Aprobado'"
            ]
          },
          "execution_count": 5,
          "metadata": {},
          "output_type": "execute_result"
        }
      ],
      "source": [
        "alumno1.mensaje()"
      ]
    },
    {
      "cell_type": "markdown",
      "metadata": {
        "id": "b_bGLJVvmDb5"
      },
      "source": [
        "##Ejercicio 2\n",
        "Realizar un programa que tenga una clase Persona con las siguientes características. La clase tendrá como atributos el nombre y la edad de una persona. Implementar los métodos necesarios para inicializar los atributos, mostrar los datos e indicar si la persona es mayor de edad o no.\n"
      ]
    },
    {
      "cell_type": "code",
      "execution_count": 6,
      "metadata": {
        "id": "t_Kbaj2EnF9N"
      },
      "outputs": [],
      "source": [
        "class  Persona:\n",
        "    def __init__(self, nombre, edad):\n",
        "        self.nombre = nombre\n",
        "        self.edad = edad\n",
        "    def mostrar(self):\n",
        "        return f\"Nombre: {self.nombre} ---Edad: {self.edad}\"\n",
        "    def mayor_edad(self):\n",
        "        if self.edad >= 18:\n",
        "            return f\"{self.nombre} es mayor de edad\"\n",
        "        else:\n",
        "            return f\"{self.nombre} NO es mayor de edad\"\n"
      ]
    },
    {
      "cell_type": "code",
      "execution_count": 7,
      "metadata": {},
      "outputs": [],
      "source": [
        "persona1 = Persona('Nayeli', 25)"
      ]
    },
    {
      "cell_type": "code",
      "execution_count": 8,
      "metadata": {},
      "outputs": [
        {
          "data": {
            "text/plain": [
              "'Nombre: Nayeli ---Edad: 25'"
            ]
          },
          "execution_count": 8,
          "metadata": {},
          "output_type": "execute_result"
        }
      ],
      "source": [
        "persona1.mostrar()"
      ]
    },
    {
      "cell_type": "code",
      "execution_count": 9,
      "metadata": {},
      "outputs": [
        {
          "data": {
            "text/plain": [
              "'Nayeli es mayor de edad'"
            ]
          },
          "execution_count": 9,
          "metadata": {},
          "output_type": "execute_result"
        }
      ],
      "source": [
        "persona1.mayor_edad()"
      ]
    },
    {
      "cell_type": "markdown",
      "metadata": {
        "id": "Esf21Be0mTBn"
      },
      "source": [
        "##Ejercicio 3\n",
        "Desarrollar un programa que cargue los datos de un triángulo. Implementar una clase con los métodos para inicializar los atributos, imprimir el valor del lado con un tamaño mayor y  el tipo de triángulo que es (equilátero, isósceles o escaleno).\n"
      ]
    },
    {
      "cell_type": "code",
      "execution_count": 10,
      "metadata": {
        "id": "sPqi1jqCnGfD"
      },
      "outputs": [],
      "source": [
        "class  Triangulo:\n",
        "    def __init__(self, lado1, lado2, lado3):\n",
        "        self.lado1 = lado1\n",
        "        self.lado2 = lado2\n",
        "        self.lado3 = lado3\n",
        "    def lado_mayor(self):\n",
        "        lados = [self.lado1, self.lado2, self.lado3]\n",
        "        return max(lados)\n",
        "    def tipo_triangulo(self):\n",
        "        if self.lado1 == self.lado2 and self.lado2 == self.lado3:\n",
        "            return f'Es un triangulo equilatero, sus lados son de {self.lado1}'\n",
        "        elif self.lado1 == self.lado2 or self.lado1 == self.lado3 or self.lado2 == self.lado3:\n",
        "            return 'Es un triángulo isosceles'\n",
        "        else:\n",
        "            return 'Es un triangulo escaleno'"
      ]
    },
    {
      "cell_type": "code",
      "execution_count": 11,
      "metadata": {},
      "outputs": [],
      "source": [
        "triangulo1 = Triangulo(3, 5, 7)"
      ]
    },
    {
      "cell_type": "code",
      "execution_count": 12,
      "metadata": {},
      "outputs": [
        {
          "data": {
            "text/plain": [
              "7"
            ]
          },
          "execution_count": 12,
          "metadata": {},
          "output_type": "execute_result"
        }
      ],
      "source": [
        "triangulo1.lado_mayor()"
      ]
    },
    {
      "cell_type": "code",
      "execution_count": 13,
      "metadata": {},
      "outputs": [
        {
          "data": {
            "text/plain": [
              "'Es un triangulo escaleno'"
            ]
          },
          "execution_count": 13,
          "metadata": {},
          "output_type": "execute_result"
        }
      ],
      "source": [
        "triangulo1.tipo_triangulo()"
      ]
    },
    {
      "cell_type": "code",
      "execution_count": 14,
      "metadata": {},
      "outputs": [],
      "source": [
        "triangulo2 = Triangulo(12, 12, 18)"
      ]
    },
    {
      "cell_type": "code",
      "execution_count": 15,
      "metadata": {},
      "outputs": [
        {
          "data": {
            "text/plain": [
              "18"
            ]
          },
          "execution_count": 15,
          "metadata": {},
          "output_type": "execute_result"
        }
      ],
      "source": [
        "triangulo2.lado_mayor()"
      ]
    },
    {
      "cell_type": "code",
      "execution_count": 16,
      "metadata": {},
      "outputs": [
        {
          "data": {
            "text/plain": [
              "'Es un triángulo isosceles'"
            ]
          },
          "execution_count": 16,
          "metadata": {},
          "output_type": "execute_result"
        }
      ],
      "source": [
        "triangulo2.tipo_triangulo()"
      ]
    },
    {
      "cell_type": "code",
      "execution_count": 17,
      "metadata": {},
      "outputs": [],
      "source": [
        "triangulo3 = Triangulo(9,9,9)"
      ]
    },
    {
      "cell_type": "code",
      "execution_count": 18,
      "metadata": {},
      "outputs": [
        {
          "data": {
            "text/plain": [
              "9"
            ]
          },
          "execution_count": 18,
          "metadata": {},
          "output_type": "execute_result"
        }
      ],
      "source": [
        "triangulo3.lado_mayor()"
      ]
    },
    {
      "cell_type": "code",
      "execution_count": 19,
      "metadata": {},
      "outputs": [
        {
          "data": {
            "text/plain": [
              "'Es un triangulo equilatero, sus lados son de 9'"
            ]
          },
          "execution_count": 19,
          "metadata": {},
          "output_type": "execute_result"
        }
      ],
      "source": [
        "triangulo3.tipo_triangulo()"
      ]
    },
    {
      "cell_type": "markdown",
      "metadata": {
        "id": "FuDVAwyLmXM_"
      },
      "source": [
        "##Ejercicio 4\n",
        "Realizar un programa en el cual se declaren dos valores enteros por teclado utilizando el método __init__. Calcular después la suma, resta, multiplicación y división. Utilizar un método para cada una e imprimir los resultados obtenidos. Llamar a la clase Calculadora."
      ]
    },
    {
      "cell_type": "code",
      "execution_count": 20,
      "metadata": {
        "id": "VnFcFidTnG-O"
      },
      "outputs": [],
      "source": [
        "class Calculadora:\n",
        "    def __init__(self, numero1, numero2):\n",
        "        self.numero1 = numero1\n",
        "        self.numero2 = numero2\n",
        "    def suma(self): \n",
        "        suma = self.numero1 + self.numero2\n",
        "        return f\"El resultado de la suma de los números es {suma}\"\n",
        "    def resta(self):\n",
        "        resta = self.numero1 - self.numero2\n",
        "        return f\"El resultado de la resta de los números es {resta}\"\n",
        "    def multiplicacion(self):\n",
        "        multiplicacion = self.numero1 * self.numero2\n",
        "        return f\"El resultado de la multiplicación de los números es {multiplicacion}\"\n",
        "    def division(self):\n",
        "        division = self.numero1 / self.numero2\n",
        "        return f\"El resultado de la division de los números es {division}\"\n",
        "numero1 = int(input('Dame el primer numero: '))\n",
        "numero2 = int(input('Dame el segundo numero: '))\n",
        "calculo1 = Calculadora(numero1,numero2)        "
      ]
    },
    {
      "cell_type": "code",
      "execution_count": 21,
      "metadata": {},
      "outputs": [
        {
          "data": {
            "text/plain": [
              "'El resultado de la suma de los números es 16'"
            ]
          },
          "execution_count": 21,
          "metadata": {},
          "output_type": "execute_result"
        }
      ],
      "source": [
        "calculo1.suma()"
      ]
    },
    {
      "cell_type": "code",
      "execution_count": 22,
      "metadata": {},
      "outputs": [
        {
          "data": {
            "text/plain": [
              "'El resultado de la resta de los números es 8'"
            ]
          },
          "execution_count": 22,
          "metadata": {},
          "output_type": "execute_result"
        }
      ],
      "source": [
        "calculo1.resta()"
      ]
    },
    {
      "cell_type": "code",
      "execution_count": 23,
      "metadata": {},
      "outputs": [
        {
          "data": {
            "text/plain": [
              "'El resultado de la multiplicación de los números es 48'"
            ]
          },
          "execution_count": 23,
          "metadata": {},
          "output_type": "execute_result"
        }
      ],
      "source": [
        "calculo1.multiplicacion()"
      ]
    },
    {
      "cell_type": "code",
      "execution_count": 24,
      "metadata": {},
      "outputs": [
        {
          "data": {
            "text/plain": [
              "'El resultado de la division de los números es 3.0'"
            ]
          },
          "execution_count": 24,
          "metadata": {},
          "output_type": "execute_result"
        }
      ],
      "source": [
        "calculo1.division()"
      ]
    },
    {
      "cell_type": "markdown",
      "metadata": {
        "id": "NmarrIA6mdo5"
      },
      "source": [
        "##Ejercicio 5\n",
        "Realizar una clase que administre una agenda. Se debe almacenar para cada contacto el nombre, el teléfono y el email. Además deberá mostrar un menú con las siguientes opciones\n",
        "\n",
        "\n",
        "\n",
        "*   Añadir contacto\n",
        "*   Lista de contactos\n",
        "*   Buscar contacto\n",
        "*   Editar contacto\n",
        "*   Cerrar agenda"
      ]
    },
    {
      "cell_type": "code",
      "execution_count": null,
      "metadata": {
        "id": "hvhudvVInHpR"
      },
      "outputs": [],
      "source": [
        "class Contacto:\n",
        "    def __init__(self, nombre, telefono, email):\n",
        "        self.nombre = nombre\n",
        "        self.telefono = telefono\n",
        "        self.email = email\n",
        "    def mensaje(self)\n"
      ]
    },
    {
      "cell_type": "code",
      "execution_count": 1,
      "metadata": {},
      "outputs": [],
      "source": [
        "class Agenda:\n",
        "\tdef __init__(self):\n",
        "\t\tself.contactos = []\n",
        "\tdef menu(self):\n",
        "\t\tprint()\n",
        "\t\tmenu = [\n",
        "\t\t\t['Agenda Persona'],\n",
        "\t\t\t['1. Añadir contacto'],\n",
        "\t\t\t['2. Lista de contactos'],\n",
        "\t\t\t['3. Buscar contacto'],\n",
        "\t\t\t['4. Editar contacto'],\n",
        "\t\t\t['5. Cerrar agenda'],\n",
        "\t\t]\n",
        "\t\tfor x in range(6):\n",
        "\t\t\tprint(menu[x][0])\n",
        "\t\topcion=int(input('Introduzca la opción deseada: '))\n",
        "\t\tif opcion == 1:\n",
        "\t\t\tself.añadir()\n",
        "\t\telif opcion == 2:\n",
        "\t\t\tself.lista()\n",
        "\t\telif opcion == 3:\n",
        "\t\t\tself.buscar()\n",
        "\t\telif opcion == 4:\n",
        "\t\t\tself.editar()\n",
        "\t\telif opcion == 5:\n",
        "\t\t\tprint('Saliendo de la agenda...')\n",
        "\t\t\texit()\n",
        "\t\tself.menu()\t\t\n",
        "\tdef añadir(self):\n",
        "\t\tprint('Añadir nuevo contacto')\n",
        "\t\tnom = input('Introduza el nombre: ')\n",
        "\t\ttelefono = input('Introduza el telefono: ')\n",
        "\t\temail = input('Introduza el email: ')\n",
        "\t\tself.contactos.append({'nombre':nom,'telf':telefono,'email':email})\n",
        "\tdef lista(self):\n",
        "\t\tprint(\"------------------\")\n",
        "\t\tprint(\"Lista de contactos\")\n",
        "\t\tprint(\"------------------\")\n",
        "\t\tif len(self.contactos) == 0:\n",
        "\t\t\tprint(\"No hay ningún contacto en la agenda\")\n",
        "\t\telse:\n",
        "\t\t\tfor x in range(len(self.contactos)):\n",
        "\t\t\t\tprint(self.contactos[x]['nombre'])\n",
        "\t\t\n",
        " \n",
        "\t# función para buscar un contacto a través del nombre\n",
        "\tdef buscar(self):\n",
        "\t\tprint(\"---------------------\")\n",
        "\t\tprint(\"Buscador de contactos\")\n",
        "\t\tprint(\"---------------------\")\n",
        "\t\tnom=input(\"Introduzca el nombre del contacto: \")\n",
        "\t\tfor x in range(len(self.contactos)):\n",
        "\t\t\tif nom == self.contactos[x]['nombre']:\n",
        "\t\t\t\tprint(\"Datos del contacto\")\n",
        "\t\t\t\tprint(\"Nombre: \",self.contactos[x]['nombre'])\n",
        "\t\t\t\tprint(\"Teléfono: \",self.contactos[x]['telf'])\n",
        "\t\t\t\tprint(\"E-mail: \",self.contactos[x]['email'])\n",
        "\t\t\t\treturn x\n",
        "\t\t\n",
        " \n",
        " \n",
        "\t# función para editar los datos de un contacto\n",
        "\tdef editar(self):\n",
        "\t\tprint(\"---------------\")\n",
        "\t\tprint(\"Editar contacto\")\n",
        "\t\tprint(\"---------------\")\n",
        "\t\tdata=self.buscar()\n",
        "\t\tcondition=False\n",
        "\t\twhile condition==False:\n",
        "\t\t\tprint(\"Selecciona que quieres editar: \")\n",
        "\t\t\tprint(\"1. Nombre\")\n",
        "\t\t\tprint(\"2. Teléfono\")\n",
        "\t\t\tprint(\"3. E-mail\")\n",
        "\t\t\tprint(\"4. Volver\")\n",
        "\t\t\toption=int(input(\"Introduzca la opción deseada: \"))\n",
        "\t\t\tif option==1:\n",
        "\t\t\t\tnom=input(\"Introduzca el nuevo nombre: \")\n",
        "\t\t\t\tself.contactos[data]['nombre']=nom\n",
        "\t\t\telif option==2:\n",
        "\t\t\t\ttelf=input(\"Introduzca el nuevo teléfono: \")\n",
        "\t\t\t\tself.contactos[data]['telf']=telf\n",
        "\t\t\telif option==3:\n",
        "\t\t\t\temail=input(\"Introduzca el nuevo email: \")\n",
        "\t\t\t\tself.contactos[data]['email']=email\n",
        "\t\t\telif option==4:\n",
        "\t\t\t\tcondition=True"
      ]
    },
    {
      "cell_type": "code",
      "execution_count": 2,
      "metadata": {},
      "outputs": [
        {
          "name": "stdout",
          "output_type": "stream",
          "text": [
            "\n",
            "Agenda Persona\n",
            "1. Añadir contacto\n",
            "2. Lista de contactos\n",
            "3. Buscar contacto\n",
            "4. Editar contacto\n",
            "5. Cerrar agenda\n",
            "Añadir nuevo contacto\n",
            "\n",
            "Agenda Persona\n",
            "1. Añadir contacto\n",
            "2. Lista de contactos\n",
            "3. Buscar contacto\n",
            "4. Editar contacto\n",
            "5. Cerrar agenda\n",
            "------------------\n",
            "Lista de contactos\n",
            "------------------\n",
            "nayeli\n",
            "\n",
            "Agenda Persona\n",
            "1. Añadir contacto\n",
            "2. Lista de contactos\n",
            "3. Buscar contacto\n",
            "4. Editar contacto\n",
            "5. Cerrar agenda\n",
            "------------------\n",
            "Lista de contactos\n",
            "------------------\n",
            "nayeli\n",
            "\n",
            "Agenda Persona\n",
            "1. Añadir contacto\n",
            "2. Lista de contactos\n",
            "3. Buscar contacto\n",
            "4. Editar contacto\n",
            "5. Cerrar agenda\n",
            "---------------------\n",
            "Buscador de contactos\n",
            "---------------------\n",
            "Datos del contacto\n",
            "Nombre:  nayeli\n",
            "Teléfono:  5951141184\n",
            "E-mail:  nayeli@gmail.com\n",
            "\n",
            "Agenda Persona\n",
            "1. Añadir contacto\n",
            "2. Lista de contactos\n",
            "3. Buscar contacto\n",
            "4. Editar contacto\n",
            "5. Cerrar agenda\n",
            "---------------\n",
            "Editar contacto\n",
            "---------------\n",
            "---------------------\n",
            "Buscador de contactos\n",
            "---------------------\n",
            "Datos del contacto\n",
            "Nombre:  nayeli\n",
            "Teléfono:  5951141184\n",
            "E-mail:  nayeli@gmail.com\n",
            "Selecciona que quieres editar: \n",
            "1. Nombre\n",
            "2. Teléfono\n",
            "3. E-mail\n",
            "4. Volver\n",
            "Selecciona que quieres editar: \n",
            "1. Nombre\n",
            "2. Teléfono\n",
            "3. E-mail\n",
            "4. Volver\n",
            "Selecciona que quieres editar: \n",
            "1. Nombre\n",
            "2. Teléfono\n",
            "3. E-mail\n",
            "4. Volver\n",
            "Selecciona que quieres editar: \n",
            "1. Nombre\n",
            "2. Teléfono\n",
            "3. E-mail\n",
            "4. Volver\n",
            "\n",
            "Agenda Persona\n",
            "1. Añadir contacto\n",
            "2. Lista de contactos\n",
            "3. Buscar contacto\n",
            "4. Editar contacto\n",
            "5. Cerrar agenda\n",
            "Saliendo de la agenda...\n",
            "\n",
            "Agenda Persona\n",
            "1. Añadir contacto\n",
            "2. Lista de contactos\n",
            "3. Buscar contacto\n",
            "4. Editar contacto\n",
            "5. Cerrar agenda\n"
          ]
        },
        {
          "ename": "ValueError",
          "evalue": "invalid literal for int() with base 10: ''",
          "output_type": "error",
          "traceback": [
            "\u001b[1;31m---------------------------------------------------------------------------\u001b[0m",
            "\u001b[1;31mValueError\u001b[0m                                Traceback (most recent call last)",
            "\u001b[1;32mc:\\Users\\Irma\\Desktop\\g17-data\\Sesión 4\\Challenge_POO.ipynb Cell 3'\u001b[0m in \u001b[0;36m<cell line: 2>\u001b[1;34m()\u001b[0m\n\u001b[0;32m      <a href='vscode-notebook-cell:/c%3A/Users/Irma/Desktop/g17-data/Sesi%C3%B3n%204/Challenge_POO.ipynb#ch0000002?line=0'>1</a>\u001b[0m agenda\u001b[39m=\u001b[39mAgenda()\n\u001b[1;32m----> <a href='vscode-notebook-cell:/c%3A/Users/Irma/Desktop/g17-data/Sesi%C3%B3n%204/Challenge_POO.ipynb#ch0000002?line=1'>2</a>\u001b[0m agenda\u001b[39m.\u001b[39;49mmenu()\n",
            "\u001b[1;32mc:\\Users\\Irma\\Desktop\\g17-data\\Sesión 4\\Challenge_POO.ipynb Cell 2'\u001b[0m in \u001b[0;36mAgenda.menu\u001b[1;34m(self)\u001b[0m\n\u001b[0;32m     <a href='vscode-notebook-cell:/c%3A/Users/Irma/Desktop/g17-data/Sesi%C3%B3n%204/Challenge_POO.ipynb#ch0000001?line=25'>26</a>\u001b[0m \t\u001b[39mprint\u001b[39m(\u001b[39m'\u001b[39m\u001b[39mSaliendo de la agenda...\u001b[39m\u001b[39m'\u001b[39m)\n\u001b[0;32m     <a href='vscode-notebook-cell:/c%3A/Users/Irma/Desktop/g17-data/Sesi%C3%B3n%204/Challenge_POO.ipynb#ch0000001?line=26'>27</a>\u001b[0m \texit()\n\u001b[1;32m---> <a href='vscode-notebook-cell:/c%3A/Users/Irma/Desktop/g17-data/Sesi%C3%B3n%204/Challenge_POO.ipynb#ch0000001?line=27'>28</a>\u001b[0m \u001b[39mself\u001b[39;49m\u001b[39m.\u001b[39;49mmenu()\n",
            "\u001b[1;32mc:\\Users\\Irma\\Desktop\\g17-data\\Sesión 4\\Challenge_POO.ipynb Cell 2'\u001b[0m in \u001b[0;36mAgenda.menu\u001b[1;34m(self)\u001b[0m\n\u001b[0;32m     <a href='vscode-notebook-cell:/c%3A/Users/Irma/Desktop/g17-data/Sesi%C3%B3n%204/Challenge_POO.ipynb#ch0000001?line=25'>26</a>\u001b[0m \t\u001b[39mprint\u001b[39m(\u001b[39m'\u001b[39m\u001b[39mSaliendo de la agenda...\u001b[39m\u001b[39m'\u001b[39m)\n\u001b[0;32m     <a href='vscode-notebook-cell:/c%3A/Users/Irma/Desktop/g17-data/Sesi%C3%B3n%204/Challenge_POO.ipynb#ch0000001?line=26'>27</a>\u001b[0m \texit()\n\u001b[1;32m---> <a href='vscode-notebook-cell:/c%3A/Users/Irma/Desktop/g17-data/Sesi%C3%B3n%204/Challenge_POO.ipynb#ch0000001?line=27'>28</a>\u001b[0m \u001b[39mself\u001b[39;49m\u001b[39m.\u001b[39;49mmenu()\n",
            "    \u001b[1;31m[... skipping similar frames: Agenda.menu at line 28 (3 times)]\u001b[0m\n",
            "\u001b[1;32mc:\\Users\\Irma\\Desktop\\g17-data\\Sesión 4\\Challenge_POO.ipynb Cell 2'\u001b[0m in \u001b[0;36mAgenda.menu\u001b[1;34m(self)\u001b[0m\n\u001b[0;32m     <a href='vscode-notebook-cell:/c%3A/Users/Irma/Desktop/g17-data/Sesi%C3%B3n%204/Challenge_POO.ipynb#ch0000001?line=25'>26</a>\u001b[0m \t\u001b[39mprint\u001b[39m(\u001b[39m'\u001b[39m\u001b[39mSaliendo de la agenda...\u001b[39m\u001b[39m'\u001b[39m)\n\u001b[0;32m     <a href='vscode-notebook-cell:/c%3A/Users/Irma/Desktop/g17-data/Sesi%C3%B3n%204/Challenge_POO.ipynb#ch0000001?line=26'>27</a>\u001b[0m \texit()\n\u001b[1;32m---> <a href='vscode-notebook-cell:/c%3A/Users/Irma/Desktop/g17-data/Sesi%C3%B3n%204/Challenge_POO.ipynb#ch0000001?line=27'>28</a>\u001b[0m \u001b[39mself\u001b[39;49m\u001b[39m.\u001b[39;49mmenu()\n",
            "\u001b[1;32mc:\\Users\\Irma\\Desktop\\g17-data\\Sesión 4\\Challenge_POO.ipynb Cell 2'\u001b[0m in \u001b[0;36mAgenda.menu\u001b[1;34m(self)\u001b[0m\n\u001b[0;32m     <a href='vscode-notebook-cell:/c%3A/Users/Irma/Desktop/g17-data/Sesi%C3%B3n%204/Challenge_POO.ipynb#ch0000001?line=13'>14</a>\u001b[0m \u001b[39mfor\u001b[39;00m x \u001b[39min\u001b[39;00m \u001b[39mrange\u001b[39m(\u001b[39m6\u001b[39m):\n\u001b[0;32m     <a href='vscode-notebook-cell:/c%3A/Users/Irma/Desktop/g17-data/Sesi%C3%B3n%204/Challenge_POO.ipynb#ch0000001?line=14'>15</a>\u001b[0m \t\u001b[39mprint\u001b[39m(menu[x][\u001b[39m0\u001b[39m])\n\u001b[1;32m---> <a href='vscode-notebook-cell:/c%3A/Users/Irma/Desktop/g17-data/Sesi%C3%B3n%204/Challenge_POO.ipynb#ch0000001?line=15'>16</a>\u001b[0m opcion\u001b[39m=\u001b[39m\u001b[39mint\u001b[39;49m(\u001b[39minput\u001b[39;49m(\u001b[39m'\u001b[39;49m\u001b[39mIntroduzca la opción deseada: \u001b[39;49m\u001b[39m'\u001b[39;49m))\n\u001b[0;32m     <a href='vscode-notebook-cell:/c%3A/Users/Irma/Desktop/g17-data/Sesi%C3%B3n%204/Challenge_POO.ipynb#ch0000001?line=16'>17</a>\u001b[0m \u001b[39mif\u001b[39;00m opcion \u001b[39m==\u001b[39m \u001b[39m1\u001b[39m:\n\u001b[0;32m     <a href='vscode-notebook-cell:/c%3A/Users/Irma/Desktop/g17-data/Sesi%C3%B3n%204/Challenge_POO.ipynb#ch0000001?line=17'>18</a>\u001b[0m \t\u001b[39mself\u001b[39m\u001b[39m.\u001b[39mañadir()\n",
            "\u001b[1;31mValueError\u001b[0m: invalid literal for int() with base 10: ''"
          ]
        }
      ],
      "source": [
        "agenda=Agenda()\n",
        "agenda.menu()"
      ]
    },
    {
      "cell_type": "markdown",
      "metadata": {
        "id": "pIFlDlAnmyyh"
      },
      "source": [
        "##Ejercicio 6\n",
        "En un banco tienen clientes que pueden hacer depósitos y extracciones de dinero. El banco requiere también al final del día calcular la cantidad de dinero que se ha depositado.\n",
        "\n",
        "Se deberán crear dos clases, la clase cliente y la clase banco. La clase cliente tendrá los atributos nombre y cantidad y los métodos __init__, depositar, extraer, mostrar_total.\n",
        "\n",
        "La clase banco tendrá como atributos 3 objetos de la clase cliente y los métodos __init__, operar y deposito_total."
      ]
    },
    {
      "cell_type": "code",
      "execution_count": 5,
      "metadata": {
        "id": "7gjXBfvCnIQJ"
      },
      "outputs": [],
      "source": [
        "class Cliente:\n",
        "    def __init__(self, nombre):\n",
        "        self.nombre = nombre\n",
        "        self.cantidad = 0\n",
        "    def depositar(self, cantidad):\n",
        "        self.cantidad+=cantidad\n",
        "    def extraer(self, cantidad):\n",
        "        self.cantidad-=cantidad\n",
        "    def mostrar_total(self):\n",
        "        return self.cantidad\n",
        "    def imprimir(self):\n",
        "        return f\"{self.nombre} tiene depositada una cantidad de  {self.cantidad}\"  \n",
        "class  Banco:\n",
        "    def __init__(self):\n",
        "        self.cliente1 = Cliente('Ivan')\n",
        "        self.cliente2 = Cliente('Marcos')\n",
        "        self.cliente3 = Cliente('Juan')\n",
        "    def operar(self):\n",
        "        self.cliente1.depositar(1000)\n",
        "        self.cliente2.depositar(300)\n",
        "        self.cliente3.depositar(43)\n",
        "        self.cliente1.extraer(400)\n",
        "    def deposito_total(self):\n",
        "        total=self.cliente1.mostrar_total()+self.cliente2.mostrar_total()+self.cliente3.mostrar_total()\n",
        "        print(\"El total de dinero del banco es: \",total)\n",
        "        self.cliente1.imprimir()\n",
        "        self.cliente2.imprimir()\n",
        "        self.cliente3.imprimir()"
      ]
    },
    {
      "cell_type": "code",
      "execution_count": 6,
      "metadata": {},
      "outputs": [
        {
          "name": "stdout",
          "output_type": "stream",
          "text": [
            "El total de dinero del banco es:  943\n"
          ]
        }
      ],
      "source": [
        "banco1=Banco()\n",
        "banco1.operar()\n",
        "banco1.deposito_total()"
      ]
    },
    {
      "cell_type": "markdown",
      "metadata": {
        "id": "B7ZTRLdum2NG"
      },
      "source": [
        "##Ejercicio 7\n",
        "Desarrollar un programa que conste de una clase padre Cuenta y dos subclases PlazoFijo y CajaAhorro. Definir los atributos titular y cantidad y un método para imprimir los datos en la clase Cuenta. La clase CajaAhorro tendrá un método para heredar los datos y uno para mostrar la información.\n",
        "\n",
        "La clase PlazoFijo tendrá dos atributos propios, plazo e interés. Tendrá un método para obtener el importe del interés (cantidad*interés/100) y otro método para mostrar la información, datos del titular plazo, interés y total de interés.\n",
        "\n",
        "Crear al menos un objeto de cada subclase.\n",
        "\n"
      ]
    },
    {
      "cell_type": "code",
      "execution_count": 7,
      "metadata": {
        "id": "F2wvhFNYnI2Z"
      },
      "outputs": [
        {
          "name": "stdout",
          "output_type": "stream",
          "text": [
            "Cuenta de caja de ahorros\n",
            "Titular:  Manuel\n",
            "Cantidad:  5000\n",
            "Cuenta a plazo fijo\n",
            "Titular:  Isabel\n",
            "Cantidad:  8000\n",
            "Plazo disponible en días:  365\n",
            "Interés:  1.2\n",
            "El importe de interés es:  96.0\n"
          ]
        }
      ],
      "source": [
        "# creamos la clase Cuenta\n",
        "class Cuenta:\n",
        "\t# inicializamos los atributos de la clase\n",
        "\tdef __init__(self,titular,cantidad):\n",
        "\t\tself.titular=titular\n",
        "\t\tself.cantidad=cantidad\n",
        " \n",
        "\t# imprimimos los datos\n",
        "\tdef imprimir(self):\n",
        "\t\tprint(\"Titular: \",self.titular)\n",
        "\t\tprint(\"Cantidad: \", self.cantidad)\n",
        " \n",
        " \n",
        "# creamos la clase CajaAhorro\n",
        "# esta clase hereda atributos de la clase Cuenta\n",
        "class CajaAhorro(Cuenta):\n",
        "\t# iniciamos los atributos de la clase\n",
        "\tdef __init__(self,titular,cantidad):\n",
        "\t\tsuper().__init__(titular,cantidad)\n",
        " \n",
        "\t# imprimimos los datos de la cuenta\n",
        "\tdef imprimir(self):\n",
        "\t\tprint(\"Cuenta de caja de ahorros\")\n",
        "\t\tsuper().imprimir()\n",
        " \n",
        " \n",
        "# creamos la clase PlazoFijo\n",
        "# esta clase también hereda atributos de la clase Cuenta\n",
        "class PlazoFijo(Cuenta):\n",
        "\t# inicializamos los atributos de la clase\n",
        "\tdef __init__(self,titular,cantidad,plazo,interes):\n",
        "\t\tsuper().__init__(titular,cantidad)\n",
        "\t\tself.plazo=plazo\n",
        "\t\tself.interes=interes\n",
        " \n",
        " \n",
        "\t# calculamos la ganancia\n",
        "\tdef ganancia(self):\n",
        "\t\tganancia=self.cantidad*self.interes/100\n",
        "\t\tprint(\"El importe de interés es: \",ganancia)\n",
        " \n",
        " \n",
        "\t# imprimimos los resultados\n",
        "\tdef imprimir(self):\n",
        "\t\tprint(\"Cuenta a plazo fijo\")\n",
        "\t\tsuper().imprimir()\n",
        "\t\tprint(\"Plazo disponible en días: \",self.plazo)\n",
        "\t\tprint(\"Interés: \",self.interes)\n",
        "\t\tself.ganancia()\n",
        " \n",
        " \n",
        "# bloque principal\n",
        "caja1=CajaAhorro(\"Manuel\",5000)\n",
        "caja1.imprimir()\n",
        " \n",
        "plazo1=PlazoFijo(\"Isabel\",8000,365,1.2)\n",
        "plazo1.imprimir()"
      ]
    }
  ],
  "metadata": {
    "colab": {
      "name": "Challenge POO.ipynb",
      "provenance": []
    },
    "kernelspec": {
      "display_name": "Python 3",
      "name": "python3"
    },
    "language_info": {
      "codemirror_mode": {
        "name": "ipython",
        "version": 3
      },
      "file_extension": ".py",
      "mimetype": "text/x-python",
      "name": "python",
      "nbconvert_exporter": "python",
      "pygments_lexer": "ipython3",
      "version": "3.9.7"
    }
  },
  "nbformat": 4,
  "nbformat_minor": 0
}
